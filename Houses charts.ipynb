{
 "cells": [
  {
   "cell_type": "code",
   "execution_count": 1,
   "metadata": {},
   "outputs": [],
   "source": [
    "import pandas as pd\n",
    "from matplotlib import pyplot as plt\n",
    "import numpy as np\n",
    "from collections import Counter\n",
    "import sqlite3\n",
    "import seaborn\n",
    "from ipywidgets import interact, Output\n",
    "import ipywidgets as widgets"
   ]
  },
  {
   "cell_type": "markdown",
   "metadata": {},
   "source": [
    "###### These are configurations to be used for all plots"
   ]
  },
  {
   "cell_type": "code",
   "execution_count": 72,
   "metadata": {},
   "outputs": [],
   "source": [
    " # will show up to 4\n",
    "price_min = 5000\n",
    "price_max = 500000  # this will cut off some offers, but will make charts more informative\n",
    "meter_price_min = 50\n",
    "meter_price_max = 4000\n",
    "hist_resolution = 200  # all values will be divided in this many groups\n",
    "area_min = 0\n",
    "area_max = 1000"
   ]
  },
  {
   "cell_type": "markdown",
   "metadata": {},
   "source": [
    "###### Connecting to database and loading all data into Pandas DataFrame"
   ]
  },
  {
   "cell_type": "code",
   "execution_count": 56,
   "metadata": {},
   "outputs": [],
   "source": [
    "conn = sqlite3.connect('offers.db')\n",
    "cursor = conn.cursor()\n",
    "\n",
    "data = pd.read_sql(\"SELECT * FROM houses\", conn, index_col=\"olx_id\")\n",
    "conn.close()"
   ]
  },
  {
   "cell_type": "code",
   "execution_count": 57,
   "metadata": {},
   "outputs": [],
   "source": [
    "data['total_area'].replace('', np.nan, inplace=True)"
   ]
  },
  {
   "cell_type": "code",
   "execution_count": 58,
   "metadata": {},
   "outputs": [
    {
     "data": {
      "text/html": [
       "<div>\n",
       "<style scoped>\n",
       "    .dataframe tbody tr th:only-of-type {\n",
       "        vertical-align: middle;\n",
       "    }\n",
       "\n",
       "    .dataframe tbody tr th {\n",
       "        vertical-align: top;\n",
       "    }\n",
       "\n",
       "    .dataframe thead th {\n",
       "        text-align: right;\n",
       "    }\n",
       "</style>\n",
       "<table border=\"1\" class=\"dataframe\">\n",
       "  <thead>\n",
       "    <tr style=\"text-align: right;\">\n",
       "      <th></th>\n",
       "      <th>price</th>\n",
       "      <th>total_area</th>\n",
       "      <th>rooms</th>\n",
       "      <th>floors_in_house</th>\n",
       "      <th>parsed_date</th>\n",
       "      <th>offer_title</th>\n",
       "      <th>offer_from</th>\n",
       "      <th>house_type</th>\n",
       "      <th>district</th>\n",
       "      <th>offer_added_date</th>\n",
       "      <th>text</th>\n",
       "      <th>offer_url</th>\n",
       "      <th>land_area</th>\n",
       "    </tr>\n",
       "    <tr>\n",
       "      <th>olx_id</th>\n",
       "      <th></th>\n",
       "      <th></th>\n",
       "      <th></th>\n",
       "      <th></th>\n",
       "      <th></th>\n",
       "      <th></th>\n",
       "      <th></th>\n",
       "      <th></th>\n",
       "      <th></th>\n",
       "      <th></th>\n",
       "      <th></th>\n",
       "      <th></th>\n",
       "      <th></th>\n",
       "    </tr>\n",
       "  </thead>\n",
       "  <tbody>\n",
       "    <tr>\n",
       "      <th>68835071</th>\n",
       "      <td>100000</td>\n",
       "      <td>400.0</td>\n",
       "      <td>6.0</td>\n",
       "      <td>3</td>\n",
       "      <td>2019-09-16</td>\n",
       "      <td>Продам дом</td>\n",
       "      <td>Частного лица</td>\n",
       "      <td>Дом</td>\n",
       "      <td>Индустриальный</td>\n",
       "      <td>2019-09-09</td>\n",
       "      <td>Продам дом на ХТЗ.Участок 7 соток, 2-ва дома н...</td>\n",
       "      <td>https://www.olx.ua/obyavlenie/prodam-dom-ID4EP...</td>\n",
       "      <td>7.0</td>\n",
       "    </tr>\n",
       "    <tr>\n",
       "      <th>84257427</th>\n",
       "      <td>40000</td>\n",
       "      <td>120.0</td>\n",
       "      <td>7.0</td>\n",
       "      <td>1</td>\n",
       "      <td>2019-09-16</td>\n",
       "      <td>Продам отдельно стоящее здание</td>\n",
       "      <td>Частного лица</td>\n",
       "      <td>Дом</td>\n",
       "      <td>Московский</td>\n",
       "      <td>2019-09-10</td>\n",
       "      <td>Продам отдельно стоящее здание площадь 115 м2|...</td>\n",
       "      <td>https://www.olx.ua/obyavlenie/prodam-otdelno-s...</td>\n",
       "      <td>1.0</td>\n",
       "    </tr>\n",
       "  </tbody>\n",
       "</table>\n",
       "</div>"
      ],
      "text/plain": [
       "           price  total_area  rooms floors_in_house parsed_date  \\\n",
       "olx_id                                                            \n",
       "68835071  100000       400.0    6.0               3  2019-09-16   \n",
       "84257427   40000       120.0    7.0               1  2019-09-16   \n",
       "\n",
       "                             offer_title     offer_from house_type  \\\n",
       "olx_id                                                               \n",
       "68835071                      Продам дом  Частного лица        Дом   \n",
       "84257427  Продам отдельно стоящее здание  Частного лица        Дом   \n",
       "\n",
       "                 district offer_added_date  \\\n",
       "olx_id                                       \n",
       "68835071  Индустриальный        2019-09-09   \n",
       "84257427       Московский       2019-09-10   \n",
       "\n",
       "                                                       text  \\\n",
       "olx_id                                                        \n",
       "68835071  Продам дом на ХТЗ.Участок 7 соток, 2-ва дома н...   \n",
       "84257427  Продам отдельно стоящее здание площадь 115 м2|...   \n",
       "\n",
       "                                                  offer_url  land_area  \n",
       "olx_id                                                                  \n",
       "68835071  https://www.olx.ua/obyavlenie/prodam-dom-ID4EP...        7.0  \n",
       "84257427  https://www.olx.ua/obyavlenie/prodam-otdelno-s...        1.0  "
      ]
     },
     "execution_count": 58,
     "metadata": {},
     "output_type": "execute_result"
    }
   ],
   "source": [
    "data.head(2)"
   ]
  },
  {
   "cell_type": "markdown",
   "metadata": {},
   "source": [
    "Data cleanup. Filtering out disctricts from outside the city. Removing offers with unreal values for price and area."
   ]
  },
  {
   "cell_type": "code",
   "execution_count": 59,
   "metadata": {},
   "outputs": [
    {
     "name": "stdout",
     "output_type": "stream",
     "text": [
      "<class 'pandas.core.frame.DataFrame'>\n",
      "Int64Index: 2084 entries, 68835071 to 612427278\n",
      "Data columns (total 13 columns):\n",
      "price               2084 non-null int64\n",
      "total_area          2084 non-null float64\n",
      "rooms               2084 non-null float64\n",
      "floors_in_house     2084 non-null object\n",
      "parsed_date         2084 non-null object\n",
      "offer_title         2084 non-null object\n",
      "offer_from          2084 non-null object\n",
      "house_type          2084 non-null object\n",
      "district            2084 non-null object\n",
      "offer_added_date    2084 non-null object\n",
      "text                2084 non-null object\n",
      "offer_url           2084 non-null object\n",
      "land_area           2084 non-null float64\n",
      "dtypes: float64(3), int64(1), object(9)\n",
      "memory usage: 227.9+ KB\n"
     ]
    }
   ],
   "source": [
    "data.info()"
   ]
  },
  {
   "cell_type": "code",
   "execution_count": 60,
   "metadata": {},
   "outputs": [],
   "source": [
    "data = data[(data['district'].isin(['Шевченковский', 'Киевский', 'Фрунзенский', 'Холодногорский', 'Московский', 'Червонозаводской', 'Октябрьский', 'Индустриальный ', 'Коминтерновский']))]\n",
    "data['offer_added_date'] = data.offer_added_date.astype('datetime64')"
   ]
  },
  {
   "cell_type": "code",
   "execution_count": 61,
   "metadata": {},
   "outputs": [
    {
     "data": {
      "text/plain": [
       "olx_id\n",
       "68835071    250.000000\n",
       "84257427    333.333333\n",
       "dtype: float64"
      ]
     },
     "execution_count": 61,
     "metadata": {},
     "output_type": "execute_result"
    }
   ],
   "source": [
    "price_square_meter = data.price / data.total_area\n",
    "price_square_meter.head(2)"
   ]
  },
  {
   "cell_type": "markdown",
   "metadata": {},
   "source": [
    "### Code for histogram"
   ]
  },
  {
   "cell_type": "code",
   "execution_count": 73,
   "metadata": {},
   "outputs": [],
   "source": [
    "def hist_set_x_axis(value):\n",
    "    if value == 'Price':\n",
    "        x_axis = data.price\n",
    "        range_min = price_min\n",
    "        range_max = price_max\n",
    "    if value == 'Price per square meter':\n",
    "        x_axis = price_square_meter\n",
    "        range_min = meter_price_min\n",
    "        range_max = meter_price_max\n",
    "    if value == 'Total area':\n",
    "        x_axis = data.total_area\n",
    "        range_min = area_min\n",
    "        range_max = area_max   \n",
    "    if value == 'Land area':\n",
    "        x_axis = data.land_area\n",
    "        range_min = 0\n",
    "        range_max = 20\n",
    "        \n",
    "    return (x_axis, range_min, range_max)"
   ]
  },
  {
   "cell_type": "code",
   "execution_count": 63,
   "metadata": {},
   "outputs": [],
   "source": [
    "hist_x_axis_dropdown = widgets.Dropdown(\n",
    "    options=['Price', 'Price per square meter', 'Total area', 'Land area'], \n",
    "    value='Price')"
   ]
  },
  {
   "cell_type": "code",
   "execution_count": 64,
   "metadata": {},
   "outputs": [],
   "source": [
    "def build_histogram(x_axis):\n",
    "    a, range_min, range_max = hist_set_x_axis(x_axis)\n",
    "    plt.figure(figsize=(20,5), dpi=300, facecolor='white')\n",
    "    plt.hist(a, hist_resolution, range=(range_min, range_max))\n",
    "    plt.show()"
   ]
  },
  {
   "cell_type": "code",
   "execution_count": 65,
   "metadata": {},
   "outputs": [],
   "source": [
    "hist_out = Output()"
   ]
  },
  {
   "cell_type": "code",
   "execution_count": 66,
   "metadata": {},
   "outputs": [],
   "source": [
    "def x_axis_observer(bunch):\n",
    "    hist_out.clear_output()\n",
    "    with hist_out:\n",
    "        build_histogram(x_axis = bunch.new)"
   ]
  },
  {
   "cell_type": "code",
   "execution_count": 67,
   "metadata": {},
   "outputs": [],
   "source": [
    "hist_x_axis_dropdown.observe(x_axis_observer, names='value')"
   ]
  },
  {
   "cell_type": "code",
   "execution_count": 74,
   "metadata": {},
   "outputs": [
    {
     "data": {
      "application/vnd.jupyter.widget-view+json": {
       "model_id": "4133dd672da14f518fcda763ad2824a2",
       "version_major": 2,
       "version_minor": 0
      },
      "text/plain": [
       "Dropdown(options=('Price', 'Price per square meter', 'Total area', 'Land area'), value='Price')"
      ]
     },
     "metadata": {},
     "output_type": "display_data"
    },
    {
     "data": {
      "application/vnd.jupyter.widget-view+json": {
       "model_id": "1188768027da45e0b1732b84dd3a0007",
       "version_major": 2,
       "version_minor": 0
      },
      "text/plain": [
       "Output(outputs=({'output_type': 'display_data', 'data': {'text/plain': '<Figure size 6000x1500 with 1 Axes>', …"
      ]
     },
     "metadata": {},
     "output_type": "display_data"
    }
   ],
   "source": [
    "display(hist_x_axis_dropdown)\n",
    "display(hist_out)"
   ]
  },
  {
   "cell_type": "markdown",
   "metadata": {},
   "source": [
    "### Code for bar chart"
   ]
  },
  {
   "cell_type": "code",
   "execution_count": 95,
   "metadata": {},
   "outputs": [],
   "source": [
    "def bar_set_x_axis(value):\n",
    "    rotation = 0\n",
    "    if value == 'District':\n",
    "        counter = Counter(data['district'])\n",
    "    if value == 'Number of rooms':\n",
    "        counter = Counter(data['rooms'])\n",
    "    if value == 'House type':\n",
    "        counter = Counter(data['house_type'])\n",
    "        rotation = 30\n",
    "    if value == 'Offer from':\n",
    "        counter = Counter(data['offer_from'])\n",
    "    if value == 'Floors in a house':\n",
    "        counter = Counter(data['floors_in_house'])\n",
    "        \n",
    "    labels = dict(counter.most_common()).keys()\n",
    "    height = dict(counter.most_common()).values()\n",
    "    x_axis = np.arange(len(labels))\n",
    "    \n",
    "    return (x_axis, height, labels, rotation)"
   ]
  },
  {
   "cell_type": "code",
   "execution_count": 89,
   "metadata": {},
   "outputs": [],
   "source": [
    "bar_x_axis_dropdown = widgets.Dropdown(\n",
    "    options=['District', 'Number of rooms', 'House type', 'Offer from', 'Floors in a house',], \n",
    "    value='District')"
   ]
  },
  {
   "cell_type": "code",
   "execution_count": 90,
   "metadata": {},
   "outputs": [],
   "source": [
    "def build_bar_chart(x_axis):\n",
    "    x_axis, height, labels, rotation = bar_set_x_axis(x_axis)\n",
    "    # Plot histogram using matplotlib bar().\n",
    "    plt.figure(figsize=(20,5), dpi=300, facecolor='white')\n",
    "    width = 0.9\n",
    "    plt.bar(x_axis, height, width, align='center')\n",
    "    plt.xticks(x_axis, labels, rotation=rotation)\n",
    "    plt.show()"
   ]
  },
  {
   "cell_type": "code",
   "execution_count": 91,
   "metadata": {},
   "outputs": [],
   "source": [
    "bar_out = Output()"
   ]
  },
  {
   "cell_type": "code",
   "execution_count": 92,
   "metadata": {},
   "outputs": [],
   "source": [
    "def bar_x_axis_observer(bunch):\n",
    "    bar_out.clear_output()\n",
    "    with bar_out:\n",
    "        build_bar_chart(x_axis = bunch.new)"
   ]
  },
  {
   "cell_type": "code",
   "execution_count": 93,
   "metadata": {},
   "outputs": [],
   "source": [
    "bar_x_axis_dropdown.observe(bar_x_axis_observer, names='value')"
   ]
  },
  {
   "cell_type": "code",
   "execution_count": 96,
   "metadata": {},
   "outputs": [
    {
     "data": {
      "application/vnd.jupyter.widget-view+json": {
       "model_id": "d63415aa786241c19ddf67f3e0172081",
       "version_major": 2,
       "version_minor": 0
      },
      "text/plain": [
       "Dropdown(index=5, options=('District', 'Number of rooms', 'House type', 'Offer from', 'Floors in a house', 'Of…"
      ]
     },
     "metadata": {},
     "output_type": "display_data"
    },
    {
     "data": {
      "application/vnd.jupyter.widget-view+json": {
       "model_id": "6efb2d92081e48c9910e63edc4c24e0b",
       "version_major": 2,
       "version_minor": 0
      },
      "text/plain": [
       "Output(outputs=({'output_type': 'display_data', 'data': {'text/plain': '<Figure size 6000x1500 with 1 Axes>', …"
      ]
     },
     "metadata": {},
     "output_type": "display_data"
    }
   ],
   "source": [
    "display(bar_x_axis_dropdown)\n",
    "display(bar_out)"
   ]
  },
  {
   "cell_type": "code",
   "execution_count": null,
   "metadata": {},
   "outputs": [],
   "source": []
  },
  {
   "cell_type": "code",
   "execution_count": null,
   "metadata": {},
   "outputs": [],
   "source": []
  },
  {
   "cell_type": "code",
   "execution_count": null,
   "metadata": {},
   "outputs": [],
   "source": []
  },
  {
   "cell_type": "code",
   "execution_count": null,
   "metadata": {},
   "outputs": [],
   "source": []
  },
  {
   "cell_type": "code",
   "execution_count": null,
   "metadata": {},
   "outputs": [],
   "source": []
  },
  {
   "cell_type": "code",
   "execution_count": null,
   "metadata": {},
   "outputs": [],
   "source": []
  }
 ],
 "metadata": {
  "kernelspec": {
   "display_name": "Python 3",
   "language": "python",
   "name": "python3"
  },
  "language_info": {
   "codemirror_mode": {
    "name": "ipython",
    "version": 3
   },
   "file_extension": ".py",
   "mimetype": "text/x-python",
   "name": "python",
   "nbconvert_exporter": "python",
   "pygments_lexer": "ipython3",
   "version": "3.7.3"
  }
 },
 "nbformat": 4,
 "nbformat_minor": 2
}
